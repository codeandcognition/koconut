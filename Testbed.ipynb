{
 "cells": [
  {
   "cell_type": "code",
   "execution_count": 1,
   "metadata": {},
   "outputs": [],
   "source": [
    "import pandas as pd"
   ]
  },
  {
   "cell_type": "code",
   "execution_count": 12,
   "metadata": {},
   "outputs": [],
   "source": [
    "a = [\n",
    "    {\n",
    "        \"eid\": \"abc\",\n",
    "        \"slip\": 0.12,\n",
    "        \"guess\": 0.23,\n",
    "        \"concept\": \"variables\"\n",
    "    },\n",
    "    {\n",
    "        \"eid\": \"def\",\n",
    "        \"slip\": 0.45,\n",
    "        \"guess\": 0.56,\n",
    "#         \"test\": 123,\n",
    "        \"concept\": \"conditionals\"\n",
    "    },\n",
    "    {\n",
    "        \"eid\": \"ghi\",\n",
    "        \"slip\": 0.78,\n",
    "        \"guess\": 0.89,\n",
    "        \"concept\": \"strings\"\n",
    "    },\n",
    "]"
   ]
  },
  {
   "cell_type": "code",
   "execution_count": 13,
   "metadata": {},
   "outputs": [
    {
     "name": "stdout",
     "output_type": "stream",
     "text": [
      "{'eid': 'abc', 'slip': 0.12, 'guess': 0.23, 'concept': 'variables'}\n",
      "4\n",
      "{'eid': 'def', 'slip': 0.45, 'guess': 0.56, 'concept': 'conditionals'}\n",
      "4\n",
      "{'eid': 'ghi', 'slip': 0.78, 'guess': 0.89, 'concept': 'strings'}\n",
      "4\n"
     ]
    },
    {
     "data": {
      "text/html": [
       "<div>\n",
       "<style scoped>\n",
       "    .dataframe tbody tr th:only-of-type {\n",
       "        vertical-align: middle;\n",
       "    }\n",
       "\n",
       "    .dataframe tbody tr th {\n",
       "        vertical-align: top;\n",
       "    }\n",
       "\n",
       "    .dataframe thead th {\n",
       "        text-align: right;\n",
       "    }\n",
       "</style>\n",
       "<table border=\"1\" class=\"dataframe\">\n",
       "  <thead>\n",
       "    <tr style=\"text-align: right;\">\n",
       "      <th></th>\n",
       "      <th>concept</th>\n",
       "      <th>eid</th>\n",
       "      <th>guess</th>\n",
       "      <th>slip</th>\n",
       "    </tr>\n",
       "  </thead>\n",
       "  <tbody>\n",
       "    <tr>\n",
       "      <th>0</th>\n",
       "      <td>variables</td>\n",
       "      <td>abc</td>\n",
       "      <td>0.23</td>\n",
       "      <td>0.12</td>\n",
       "    </tr>\n",
       "    <tr>\n",
       "      <th>1</th>\n",
       "      <td>conditionals</td>\n",
       "      <td>def</td>\n",
       "      <td>0.56</td>\n",
       "      <td>0.45</td>\n",
       "    </tr>\n",
       "    <tr>\n",
       "      <th>2</th>\n",
       "      <td>strings</td>\n",
       "      <td>ghi</td>\n",
       "      <td>0.89</td>\n",
       "      <td>0.78</td>\n",
       "    </tr>\n",
       "  </tbody>\n",
       "</table>\n",
       "</div>"
      ],
      "text/plain": [
       "        concept  eid  guess  slip\n",
       "0     variables  abc   0.23  0.12\n",
       "1  conditionals  def   0.56  0.45\n",
       "2       strings  ghi   0.89  0.78"
      ]
     },
     "execution_count": 13,
     "metadata": {},
     "output_type": "execute_result"
    }
   ],
   "source": [
    "for item in a:\n",
    "    print(item)\n",
    "    print(len(item))\n",
    "    if len(item) != 4:\n",
    "        raise ValueError(\"Invalid item params provided\")\n",
    "    if (\"eid\" not in item) or (\"slip\" not in item) or (\"guess\" not in item) or (\"concept\" not in item):\n",
    "        raise ValueError(\"Invalid item params provided\")\n",
    "\n",
    "pd.DataFrame(a)"
   ]
  },
  {
   "cell_type": "code",
   "execution_count": 14,
   "metadata": {},
   "outputs": [
    {
     "data": {
      "text/plain": [
       "4"
      ]
     },
     "execution_count": 14,
     "metadata": {},
     "output_type": "execute_result"
    }
   ],
   "source": [
    "len(a[0])"
   ]
  },
  {
   "cell_type": "code",
   "execution_count": 15,
   "metadata": {},
   "outputs": [
    {
     "data": {
      "text/plain": [
       "True"
      ]
     },
     "execution_count": 15,
     "metadata": {},
     "output_type": "execute_result"
    }
   ],
   "source": [
    "b = None\n",
    "b is None"
   ]
  },
  {
   "cell_type": "code",
   "execution_count": 16,
   "metadata": {},
   "outputs": [
    {
     "data": {
      "text/plain": [
       "False"
      ]
     },
     "execution_count": 16,
     "metadata": {},
     "output_type": "execute_result"
    }
   ],
   "source": [
    "a is None"
   ]
  }
 ],
 "metadata": {
  "kernelspec": {
   "display_name": "Python 3",
   "language": "python",
   "name": "python3"
  },
  "language_info": {
   "codemirror_mode": {
    "name": "ipython",
    "version": 3
   },
   "file_extension": ".py",
   "mimetype": "text/x-python",
   "name": "python",
   "nbconvert_exporter": "python",
   "pygments_lexer": "ipython3",
   "version": "3.7.3"
  }
 },
 "nbformat": 4,
 "nbformat_minor": 2
}
